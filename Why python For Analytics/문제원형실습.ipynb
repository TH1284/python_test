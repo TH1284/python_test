{
 "cells": [
  {
   "cell_type": "code",
   "execution_count": 6,
   "metadata": {},
   "outputs": [],
   "source": [
    "import pandas as pd\n",
    "from isoweek import Week"
   ]
  },
  {
   "cell_type": "markdown",
   "metadata": {},
   "source": [
    "### 1. promotion Data 불러오기"
   ]
  },
  {
   "cell_type": "code",
   "execution_count": 7,
   "metadata": {},
   "outputs": [
    {
     "ename": "FileNotFoundError",
     "evalue": "File b'./data/pro_promotion.csv' does not exist",
     "output_type": "error",
     "traceback": [
      "\u001b[1;31m---------------------------------------------------------------------------\u001b[0m",
      "\u001b[1;31mFileNotFoundError\u001b[0m                         Traceback (most recent call last)",
      "\u001b[1;32m<ipython-input-7-410cda844ff3>\u001b[0m in \u001b[0;36m<module>\u001b[1;34m\u001b[0m\n\u001b[1;32m----> 1\u001b[1;33m \u001b[0mpromotionData\u001b[0m \u001b[1;33m=\u001b[0m \u001b[0mpd\u001b[0m\u001b[1;33m.\u001b[0m\u001b[0mread_csv\u001b[0m\u001b[1;33m(\u001b[0m\u001b[1;34m\"./data/pro_promotion.csv\"\u001b[0m\u001b[1;33m)\u001b[0m\u001b[1;33m\u001b[0m\u001b[1;33m\u001b[0m\u001b[0m\n\u001b[0m",
      "\u001b[1;32mC:\\ProgramData\\Anaconda3\\lib\\site-packages\\pandas\\io\\parsers.py\u001b[0m in \u001b[0;36mparser_f\u001b[1;34m(filepath_or_buffer, sep, delimiter, header, names, index_col, usecols, squeeze, prefix, mangle_dupe_cols, dtype, engine, converters, true_values, false_values, skipinitialspace, skiprows, nrows, na_values, keep_default_na, na_filter, verbose, skip_blank_lines, parse_dates, infer_datetime_format, keep_date_col, date_parser, dayfirst, iterator, chunksize, compression, thousands, decimal, lineterminator, quotechar, quoting, escapechar, comment, encoding, dialect, tupleize_cols, error_bad_lines, warn_bad_lines, skipfooter, doublequote, delim_whitespace, low_memory, memory_map, float_precision)\u001b[0m\n\u001b[0;32m    676\u001b[0m                     skip_blank_lines=skip_blank_lines)\n\u001b[0;32m    677\u001b[0m \u001b[1;33m\u001b[0m\u001b[0m\n\u001b[1;32m--> 678\u001b[1;33m         \u001b[1;32mreturn\u001b[0m \u001b[0m_read\u001b[0m\u001b[1;33m(\u001b[0m\u001b[0mfilepath_or_buffer\u001b[0m\u001b[1;33m,\u001b[0m \u001b[0mkwds\u001b[0m\u001b[1;33m)\u001b[0m\u001b[1;33m\u001b[0m\u001b[1;33m\u001b[0m\u001b[0m\n\u001b[0m\u001b[0;32m    679\u001b[0m \u001b[1;33m\u001b[0m\u001b[0m\n\u001b[0;32m    680\u001b[0m     \u001b[0mparser_f\u001b[0m\u001b[1;33m.\u001b[0m\u001b[0m__name__\u001b[0m \u001b[1;33m=\u001b[0m \u001b[0mname\u001b[0m\u001b[1;33m\u001b[0m\u001b[1;33m\u001b[0m\u001b[0m\n",
      "\u001b[1;32mC:\\ProgramData\\Anaconda3\\lib\\site-packages\\pandas\\io\\parsers.py\u001b[0m in \u001b[0;36m_read\u001b[1;34m(filepath_or_buffer, kwds)\u001b[0m\n\u001b[0;32m    438\u001b[0m \u001b[1;33m\u001b[0m\u001b[0m\n\u001b[0;32m    439\u001b[0m     \u001b[1;31m# Create the parser.\u001b[0m\u001b[1;33m\u001b[0m\u001b[1;33m\u001b[0m\u001b[1;33m\u001b[0m\u001b[0m\n\u001b[1;32m--> 440\u001b[1;33m     \u001b[0mparser\u001b[0m \u001b[1;33m=\u001b[0m \u001b[0mTextFileReader\u001b[0m\u001b[1;33m(\u001b[0m\u001b[0mfilepath_or_buffer\u001b[0m\u001b[1;33m,\u001b[0m \u001b[1;33m**\u001b[0m\u001b[0mkwds\u001b[0m\u001b[1;33m)\u001b[0m\u001b[1;33m\u001b[0m\u001b[1;33m\u001b[0m\u001b[0m\n\u001b[0m\u001b[0;32m    441\u001b[0m \u001b[1;33m\u001b[0m\u001b[0m\n\u001b[0;32m    442\u001b[0m     \u001b[1;32mif\u001b[0m \u001b[0mchunksize\u001b[0m \u001b[1;32mor\u001b[0m \u001b[0miterator\u001b[0m\u001b[1;33m:\u001b[0m\u001b[1;33m\u001b[0m\u001b[1;33m\u001b[0m\u001b[0m\n",
      "\u001b[1;32mC:\\ProgramData\\Anaconda3\\lib\\site-packages\\pandas\\io\\parsers.py\u001b[0m in \u001b[0;36m__init__\u001b[1;34m(self, f, engine, **kwds)\u001b[0m\n\u001b[0;32m    785\u001b[0m             \u001b[0mself\u001b[0m\u001b[1;33m.\u001b[0m\u001b[0moptions\u001b[0m\u001b[1;33m[\u001b[0m\u001b[1;34m'has_index_names'\u001b[0m\u001b[1;33m]\u001b[0m \u001b[1;33m=\u001b[0m \u001b[0mkwds\u001b[0m\u001b[1;33m[\u001b[0m\u001b[1;34m'has_index_names'\u001b[0m\u001b[1;33m]\u001b[0m\u001b[1;33m\u001b[0m\u001b[1;33m\u001b[0m\u001b[0m\n\u001b[0;32m    786\u001b[0m \u001b[1;33m\u001b[0m\u001b[0m\n\u001b[1;32m--> 787\u001b[1;33m         \u001b[0mself\u001b[0m\u001b[1;33m.\u001b[0m\u001b[0m_make_engine\u001b[0m\u001b[1;33m(\u001b[0m\u001b[0mself\u001b[0m\u001b[1;33m.\u001b[0m\u001b[0mengine\u001b[0m\u001b[1;33m)\u001b[0m\u001b[1;33m\u001b[0m\u001b[1;33m\u001b[0m\u001b[0m\n\u001b[0m\u001b[0;32m    788\u001b[0m \u001b[1;33m\u001b[0m\u001b[0m\n\u001b[0;32m    789\u001b[0m     \u001b[1;32mdef\u001b[0m \u001b[0mclose\u001b[0m\u001b[1;33m(\u001b[0m\u001b[0mself\u001b[0m\u001b[1;33m)\u001b[0m\u001b[1;33m:\u001b[0m\u001b[1;33m\u001b[0m\u001b[1;33m\u001b[0m\u001b[0m\n",
      "\u001b[1;32mC:\\ProgramData\\Anaconda3\\lib\\site-packages\\pandas\\io\\parsers.py\u001b[0m in \u001b[0;36m_make_engine\u001b[1;34m(self, engine)\u001b[0m\n\u001b[0;32m   1012\u001b[0m     \u001b[1;32mdef\u001b[0m \u001b[0m_make_engine\u001b[0m\u001b[1;33m(\u001b[0m\u001b[0mself\u001b[0m\u001b[1;33m,\u001b[0m \u001b[0mengine\u001b[0m\u001b[1;33m=\u001b[0m\u001b[1;34m'c'\u001b[0m\u001b[1;33m)\u001b[0m\u001b[1;33m:\u001b[0m\u001b[1;33m\u001b[0m\u001b[1;33m\u001b[0m\u001b[0m\n\u001b[0;32m   1013\u001b[0m         \u001b[1;32mif\u001b[0m \u001b[0mengine\u001b[0m \u001b[1;33m==\u001b[0m \u001b[1;34m'c'\u001b[0m\u001b[1;33m:\u001b[0m\u001b[1;33m\u001b[0m\u001b[1;33m\u001b[0m\u001b[0m\n\u001b[1;32m-> 1014\u001b[1;33m             \u001b[0mself\u001b[0m\u001b[1;33m.\u001b[0m\u001b[0m_engine\u001b[0m \u001b[1;33m=\u001b[0m \u001b[0mCParserWrapper\u001b[0m\u001b[1;33m(\u001b[0m\u001b[0mself\u001b[0m\u001b[1;33m.\u001b[0m\u001b[0mf\u001b[0m\u001b[1;33m,\u001b[0m \u001b[1;33m**\u001b[0m\u001b[0mself\u001b[0m\u001b[1;33m.\u001b[0m\u001b[0moptions\u001b[0m\u001b[1;33m)\u001b[0m\u001b[1;33m\u001b[0m\u001b[1;33m\u001b[0m\u001b[0m\n\u001b[0m\u001b[0;32m   1015\u001b[0m         \u001b[1;32melse\u001b[0m\u001b[1;33m:\u001b[0m\u001b[1;33m\u001b[0m\u001b[1;33m\u001b[0m\u001b[0m\n\u001b[0;32m   1016\u001b[0m             \u001b[1;32mif\u001b[0m \u001b[0mengine\u001b[0m \u001b[1;33m==\u001b[0m \u001b[1;34m'python'\u001b[0m\u001b[1;33m:\u001b[0m\u001b[1;33m\u001b[0m\u001b[1;33m\u001b[0m\u001b[0m\n",
      "\u001b[1;32mC:\\ProgramData\\Anaconda3\\lib\\site-packages\\pandas\\io\\parsers.py\u001b[0m in \u001b[0;36m__init__\u001b[1;34m(self, src, **kwds)\u001b[0m\n\u001b[0;32m   1706\u001b[0m         \u001b[0mkwds\u001b[0m\u001b[1;33m[\u001b[0m\u001b[1;34m'usecols'\u001b[0m\u001b[1;33m]\u001b[0m \u001b[1;33m=\u001b[0m \u001b[0mself\u001b[0m\u001b[1;33m.\u001b[0m\u001b[0musecols\u001b[0m\u001b[1;33m\u001b[0m\u001b[1;33m\u001b[0m\u001b[0m\n\u001b[0;32m   1707\u001b[0m \u001b[1;33m\u001b[0m\u001b[0m\n\u001b[1;32m-> 1708\u001b[1;33m         \u001b[0mself\u001b[0m\u001b[1;33m.\u001b[0m\u001b[0m_reader\u001b[0m \u001b[1;33m=\u001b[0m \u001b[0mparsers\u001b[0m\u001b[1;33m.\u001b[0m\u001b[0mTextReader\u001b[0m\u001b[1;33m(\u001b[0m\u001b[0msrc\u001b[0m\u001b[1;33m,\u001b[0m \u001b[1;33m**\u001b[0m\u001b[0mkwds\u001b[0m\u001b[1;33m)\u001b[0m\u001b[1;33m\u001b[0m\u001b[1;33m\u001b[0m\u001b[0m\n\u001b[0m\u001b[0;32m   1709\u001b[0m \u001b[1;33m\u001b[0m\u001b[0m\n\u001b[0;32m   1710\u001b[0m         \u001b[0mpassed_names\u001b[0m \u001b[1;33m=\u001b[0m \u001b[0mself\u001b[0m\u001b[1;33m.\u001b[0m\u001b[0mnames\u001b[0m \u001b[1;32mis\u001b[0m \u001b[1;32mNone\u001b[0m\u001b[1;33m\u001b[0m\u001b[1;33m\u001b[0m\u001b[0m\n",
      "\u001b[1;32mpandas\\_libs\\parsers.pyx\u001b[0m in \u001b[0;36mpandas._libs.parsers.TextReader.__cinit__\u001b[1;34m()\u001b[0m\n",
      "\u001b[1;32mpandas\\_libs\\parsers.pyx\u001b[0m in \u001b[0;36mpandas._libs.parsers.TextReader._setup_parser_source\u001b[1;34m()\u001b[0m\n",
      "\u001b[1;31mFileNotFoundError\u001b[0m: File b'./data/pro_promotion.csv' does not exist"
     ]
    }
   ],
   "source": [
    "promotionData = pd.read_csv(\"./data/pro_promotion.csv\")"
   ]
  },
  {
   "cell_type": "code",
   "execution_count": null,
   "metadata": {},
   "outputs": [],
   "source": [
    "promotionData.head()"
   ]
  },
  {
   "cell_type": "code",
   "execution_count": null,
   "metadata": {},
   "outputs": [],
   "source": [
    "promotionData.dtypes"
   ]
  },
  {
   "cell_type": "markdown",
   "metadata": {},
   "source": [
    "## 2. planweek가 targetweek보다 큰 데이터 정제"
   ]
  },
  {
   "cell_type": "code",
   "execution_count": null,
   "metadata": {},
   "outputs": [],
   "source": [
    "step1proData= promotionData[promotionData.targetweek >= promotionData.planwee]"
   ]
  },
  {
   "cell_type": "code",
   "execution_count": null,
   "metadata": {},
   "outputs": [],
   "source": [
    "step1proData.head()"
   ]
  },
  {
   "cell_type": "code",
   "execution_count": null,
   "metadata": {},
   "outputs": [],
   "source": [
    "## 정제한 후 인덱스 초기화\n",
    "step1proData = step1proData.reset_index(drop=True)"
   ]
  },
  {
   "cell_type": "markdown",
   "metadata": {},
   "source": [
    "## 1. actual_sales 데이터 정리"
   ]
  },
  {
   "cell_type": "code",
   "execution_count": null,
   "metadata": {},
   "outputs": [],
   "source": [
    "actualData = pd.read_csv(\"./dataset/pro_actual_sales.csv\")"
   ]
  },
  {
   "cell_type": "code",
   "execution_count": null,
   "metadata": {},
   "outputs": [],
   "source": [
    "## week가 52주차 이하인 값들을 뽑아서 actualData에 담기\n",
    "actualData = actualData[actualData['week'] <= 52]\n",
    "## 잘 정제 됬는지 확인\n",
    "actualData[actualData['week'] > 52]"
   ]
  },
  {
   "cell_type": "code",
   "execution_count": null,
   "metadata": {},
   "outputs": [],
   "source": [
    "actualData.head()"
   ]
  },
  {
   "cell_type": "code",
   "execution_count": null,
   "metadata": {},
   "outputs": [],
   "source": [
    "actualData.dtypes"
   ]
  },
  {
   "cell_type": "code",
   "execution_count": 8,
   "metadata": {},
   "outputs": [],
   "source": [
    "groupKey = ['regionSeg1','productSeg2','regionSeg2','regionSeg3','productSeg3']"
   ]
  },
  {
   "cell_type": "code",
   "execution_count": null,
   "metadata": {},
   "outputs": [],
   "source": [
    "def minmaxweek(inputdf) :\n",
    "    minweek = inputdf['yearweek'].min()\n",
    "    maxweek = inputdf['yearweek'].max()\n",
    "    \n",
    "#     for i in inputdf['yearweek']:\n",
    "#         tempYearweek1 = inputdf.loc[0:i,:].yearweek\n",
    "#         tempYearweek2 = inputdf.loc[i+1:i+1,:].yearweek\n",
    "#         if(tempYearweek2 - tempYearweek1 == 1) :\n",
    "#             pass\n",
    "#         elif()\n",
    "       \n",
    "        for i in \n",
    "        \n",
    "    "
   ]
  },
  {
   "cell_type": "code",
   "execution_count": 9,
   "metadata": {},
   "outputs": [],
   "source": [
    "groupData = actualData.groupby(groupKey)"
   ]
  },
  {
   "cell_type": "code",
   "execution_count": 10,
   "metadata": {},
   "outputs": [
    {
     "data": {
      "text/html": [
       "<div>\n",
       "<style scoped>\n",
       "    .dataframe tbody tr th:only-of-type {\n",
       "        vertical-align: middle;\n",
       "    }\n",
       "\n",
       "    .dataframe tbody tr th {\n",
       "        vertical-align: top;\n",
       "    }\n",
       "\n",
       "    .dataframe thead th {\n",
       "        text-align: right;\n",
       "    }\n",
       "</style>\n",
       "<table border=\"1\" class=\"dataframe\">\n",
       "  <thead>\n",
       "    <tr style=\"text-align: right;\">\n",
       "      <th></th>\n",
       "      <th>regionSeg1</th>\n",
       "      <th>productSeg1</th>\n",
       "      <th>productSeg2</th>\n",
       "      <th>regionSeg2</th>\n",
       "      <th>regionSeg3</th>\n",
       "      <th>productSeg3</th>\n",
       "      <th>yearweek</th>\n",
       "      <th>year</th>\n",
       "      <th>week</th>\n",
       "      <th>qty</th>\n",
       "    </tr>\n",
       "  </thead>\n",
       "  <tbody>\n",
       "    <tr>\n",
       "      <th>0</th>\n",
       "      <td>A01</td>\n",
       "      <td>NaN</td>\n",
       "      <td>PG05</td>\n",
       "      <td>SALESID0001</td>\n",
       "      <td>SITEID0004</td>\n",
       "      <td>ITEM0445</td>\n",
       "      <td>201306</td>\n",
       "      <td>2013</td>\n",
       "      <td>6</td>\n",
       "      <td>5</td>\n",
       "    </tr>\n",
       "    <tr>\n",
       "      <th>1</th>\n",
       "      <td>A01</td>\n",
       "      <td>NaN</td>\n",
       "      <td>PG05</td>\n",
       "      <td>SALESID0001</td>\n",
       "      <td>SITEID0004</td>\n",
       "      <td>ITEM0445</td>\n",
       "      <td>201307</td>\n",
       "      <td>2013</td>\n",
       "      <td>7</td>\n",
       "      <td>8</td>\n",
       "    </tr>\n",
       "    <tr>\n",
       "      <th>2</th>\n",
       "      <td>A01</td>\n",
       "      <td>NaN</td>\n",
       "      <td>PG05</td>\n",
       "      <td>SALESID0001</td>\n",
       "      <td>SITEID0004</td>\n",
       "      <td>ITEM0445</td>\n",
       "      <td>201308</td>\n",
       "      <td>2013</td>\n",
       "      <td>8</td>\n",
       "      <td>7</td>\n",
       "    </tr>\n",
       "    <tr>\n",
       "      <th>3</th>\n",
       "      <td>A01</td>\n",
       "      <td>NaN</td>\n",
       "      <td>PG05</td>\n",
       "      <td>SALESID0001</td>\n",
       "      <td>SITEID0004</td>\n",
       "      <td>ITEM0445</td>\n",
       "      <td>201309</td>\n",
       "      <td>2013</td>\n",
       "      <td>9</td>\n",
       "      <td>1</td>\n",
       "    </tr>\n",
       "    <tr>\n",
       "      <th>4</th>\n",
       "      <td>A01</td>\n",
       "      <td>NaN</td>\n",
       "      <td>PG05</td>\n",
       "      <td>SALESID0001</td>\n",
       "      <td>SITEID0004</td>\n",
       "      <td>ITEM0445</td>\n",
       "      <td>201310</td>\n",
       "      <td>2013</td>\n",
       "      <td>10</td>\n",
       "      <td>1</td>\n",
       "    </tr>\n",
       "  </tbody>\n",
       "</table>\n",
       "</div>"
      ],
      "text/plain": [
       "  regionSeg1  productSeg1 productSeg2   regionSeg2  regionSeg3 productSeg3  \\\n",
       "0        A01          NaN        PG05  SALESID0001  SITEID0004    ITEM0445   \n",
       "1        A01          NaN        PG05  SALESID0001  SITEID0004    ITEM0445   \n",
       "2        A01          NaN        PG05  SALESID0001  SITEID0004    ITEM0445   \n",
       "3        A01          NaN        PG05  SALESID0001  SITEID0004    ITEM0445   \n",
       "4        A01          NaN        PG05  SALESID0001  SITEID0004    ITEM0445   \n",
       "\n",
       "   yearweek  year  week  qty  \n",
       "0    201306  2013     6    5  \n",
       "1    201307  2013     7    8  \n",
       "2    201308  2013     8    7  \n",
       "3    201309  2013     9    1  \n",
       "4    201310  2013    10    1  "
      ]
     },
     "execution_count": 10,
     "metadata": {},
     "output_type": "execute_result"
    }
   ],
   "source": [
    "actualData.head()"
   ]
  },
  {
   "cell_type": "code",
   "execution_count": 13,
   "metadata": {},
   "outputs": [
    {
     "data": {
      "text/plain": [
       "0    201306\n",
       "1    201307\n",
       "Name: yearweek, dtype: int64"
      ]
     },
     "execution_count": 13,
     "metadata": {},
     "output_type": "execute_result"
    }
   ],
   "source": [
    "actualData.loc[0:1,:].yearweek"
   ]
  },
  {
   "cell_type": "code",
   "execution_count": 181,
   "metadata": {},
   "outputs": [
    {
     "data": {
      "text/plain": [
       "regionSeg1  productSeg2  regionSeg2   regionSeg3  productSeg3\n",
       "A01         PG01         SALESID0001  SITEID0001  ITEM0001       201301\n",
       "                                                  ITEM0002       201301\n",
       "                                                  ITEM0003       201302\n",
       "                                                  ITEM0004       201301\n",
       "                                                  ITEM0005       201301\n",
       "                                                  ITEM0006       201301\n",
       "                                                  ITEM0106       201301\n",
       "                                                  ITEM0107       201301\n",
       "                                                  ITEM0108       201301\n",
       "                                                  ITEM0109       201331\n",
       "                                                  ITEM0110       201330\n",
       "                                                  ITEM0111       201333\n",
       "                                                  ITEM0112       201332\n",
       "                                                  ITEM0113       201419\n",
       "                                                  ITEM0114       201418\n",
       "                                                  ITEM0115       201418\n",
       "                                                  ITEM0116       201508\n",
       "                                                  ITEM0117       201507\n",
       "                                                  ITEM0118       201509\n",
       "                                                  ITEM0119       201539\n",
       "                                                  ITEM0120       201518\n",
       "                                                  ITEM0121       201521\n",
       "                                                  ITEM0122       201448\n",
       "                                      SITEID0002  ITEM0001       201301\n",
       "                                                  ITEM0002       201301\n",
       "                                                  ITEM0003       201302\n",
       "                                                  ITEM0004       201301\n",
       "                                                  ITEM0005       201301\n",
       "                                                  ITEM0006       201301\n",
       "                                                  ITEM0106       201302\n",
       "                                                                  ...  \n",
       "            PG05         SALESID0001  SITEID0007  ITEM0095       201548\n",
       "                                                  ITEM0098       201440\n",
       "                                                  ITEM0099       201521\n",
       "                                                  ITEM0102       201447\n",
       "                                                  ITEM0103       201435\n",
       "                                                  ITEM0395       201422\n",
       "                                                  ITEM0396       201524\n",
       "                                                  ITEM0401       201420\n",
       "                                                  ITEM0402       201427\n",
       "                                                  ITEM0404       201452\n",
       "                                                  ITEM0405       201430\n",
       "                                                  ITEM0406       201524\n",
       "                                                  ITEM0407       201408\n",
       "                                                  ITEM0408       201515\n",
       "                                                  ITEM0409       201410\n",
       "                                                  ITEM0413       201526\n",
       "                                                  ITEM0414       201536\n",
       "                                                  ITEM0415       201440\n",
       "                                                  ITEM0416       201521\n",
       "                                                  ITEM0427       201526\n",
       "                                                  ITEM0436       201422\n",
       "                                                  ITEM0437       201421\n",
       "                                                  ITEM0438       201424\n",
       "                                                  ITEM0439       201536\n",
       "                                                  ITEM0440       201553\n",
       "                                                  ITEM0448       201425\n",
       "                                                  ITEM0449       201425\n",
       "                                                  ITEM0456       201447\n",
       "                                                  ITEM0457       201435\n",
       "                                                  ITEM0458       201531\n",
       "Name: yearweek, Length: 2696, dtype: int64"
      ]
     },
     "execution_count": 181,
     "metadata": {},
     "output_type": "execute_result"
    }
   ],
   "source": [
    "groupData['yearweek'].min()"
   ]
  },
  {
   "cell_type": "code",
   "execution_count": 12,
   "metadata": {
    "scrolled": true
   },
   "outputs": [
    {
     "data": {
      "text/html": [
       "<div>\n",
       "<style scoped>\n",
       "    .dataframe tbody tr th:only-of-type {\n",
       "        vertical-align: middle;\n",
       "    }\n",
       "\n",
       "    .dataframe tbody tr th {\n",
       "        vertical-align: top;\n",
       "    }\n",
       "\n",
       "    .dataframe thead th {\n",
       "        text-align: right;\n",
       "    }\n",
       "</style>\n",
       "<table border=\"1\" class=\"dataframe\">\n",
       "  <thead>\n",
       "    <tr style=\"text-align: right;\">\n",
       "      <th></th>\n",
       "      <th>regionSeg1</th>\n",
       "      <th>productSeg1</th>\n",
       "      <th>productSeg2</th>\n",
       "      <th>regionSeg2</th>\n",
       "      <th>regionSeg3</th>\n",
       "      <th>productSeg3</th>\n",
       "      <th>yearweek</th>\n",
       "      <th>year</th>\n",
       "      <th>week</th>\n",
       "      <th>qty</th>\n",
       "    </tr>\n",
       "  </thead>\n",
       "  <tbody>\n",
       "    <tr>\n",
       "      <th>28688</th>\n",
       "      <td>A01</td>\n",
       "      <td>NaN</td>\n",
       "      <td>PG01</td>\n",
       "      <td>SALESID0001</td>\n",
       "      <td>SITEID0001</td>\n",
       "      <td>ITEM0002</td>\n",
       "      <td>201301</td>\n",
       "      <td>2013</td>\n",
       "      <td>1</td>\n",
       "      <td>16</td>\n",
       "    </tr>\n",
       "    <tr>\n",
       "      <th>28689</th>\n",
       "      <td>A01</td>\n",
       "      <td>NaN</td>\n",
       "      <td>PG01</td>\n",
       "      <td>SALESID0001</td>\n",
       "      <td>SITEID0001</td>\n",
       "      <td>ITEM0002</td>\n",
       "      <td>201302</td>\n",
       "      <td>2013</td>\n",
       "      <td>2</td>\n",
       "      <td>13</td>\n",
       "    </tr>\n",
       "    <tr>\n",
       "      <th>28690</th>\n",
       "      <td>A01</td>\n",
       "      <td>NaN</td>\n",
       "      <td>PG01</td>\n",
       "      <td>SALESID0001</td>\n",
       "      <td>SITEID0001</td>\n",
       "      <td>ITEM0002</td>\n",
       "      <td>201303</td>\n",
       "      <td>2013</td>\n",
       "      <td>3</td>\n",
       "      <td>24</td>\n",
       "    </tr>\n",
       "    <tr>\n",
       "      <th>28691</th>\n",
       "      <td>A01</td>\n",
       "      <td>NaN</td>\n",
       "      <td>PG01</td>\n",
       "      <td>SALESID0001</td>\n",
       "      <td>SITEID0001</td>\n",
       "      <td>ITEM0002</td>\n",
       "      <td>201304</td>\n",
       "      <td>2013</td>\n",
       "      <td>4</td>\n",
       "      <td>33</td>\n",
       "    </tr>\n",
       "    <tr>\n",
       "      <th>28692</th>\n",
       "      <td>A01</td>\n",
       "      <td>NaN</td>\n",
       "      <td>PG01</td>\n",
       "      <td>SALESID0001</td>\n",
       "      <td>SITEID0001</td>\n",
       "      <td>ITEM0002</td>\n",
       "      <td>201305</td>\n",
       "      <td>2013</td>\n",
       "      <td>5</td>\n",
       "      <td>16</td>\n",
       "    </tr>\n",
       "    <tr>\n",
       "      <th>28693</th>\n",
       "      <td>A01</td>\n",
       "      <td>NaN</td>\n",
       "      <td>PG01</td>\n",
       "      <td>SALESID0001</td>\n",
       "      <td>SITEID0001</td>\n",
       "      <td>ITEM0002</td>\n",
       "      <td>201306</td>\n",
       "      <td>2013</td>\n",
       "      <td>6</td>\n",
       "      <td>14</td>\n",
       "    </tr>\n",
       "    <tr>\n",
       "      <th>28694</th>\n",
       "      <td>A01</td>\n",
       "      <td>NaN</td>\n",
       "      <td>PG01</td>\n",
       "      <td>SALESID0001</td>\n",
       "      <td>SITEID0001</td>\n",
       "      <td>ITEM0002</td>\n",
       "      <td>201307</td>\n",
       "      <td>2013</td>\n",
       "      <td>7</td>\n",
       "      <td>26</td>\n",
       "    </tr>\n",
       "    <tr>\n",
       "      <th>28695</th>\n",
       "      <td>A01</td>\n",
       "      <td>NaN</td>\n",
       "      <td>PG01</td>\n",
       "      <td>SALESID0001</td>\n",
       "      <td>SITEID0001</td>\n",
       "      <td>ITEM0002</td>\n",
       "      <td>201308</td>\n",
       "      <td>2013</td>\n",
       "      <td>8</td>\n",
       "      <td>27</td>\n",
       "    </tr>\n",
       "    <tr>\n",
       "      <th>28696</th>\n",
       "      <td>A01</td>\n",
       "      <td>NaN</td>\n",
       "      <td>PG01</td>\n",
       "      <td>SALESID0001</td>\n",
       "      <td>SITEID0001</td>\n",
       "      <td>ITEM0002</td>\n",
       "      <td>201309</td>\n",
       "      <td>2013</td>\n",
       "      <td>9</td>\n",
       "      <td>17</td>\n",
       "    </tr>\n",
       "    <tr>\n",
       "      <th>28697</th>\n",
       "      <td>A01</td>\n",
       "      <td>NaN</td>\n",
       "      <td>PG01</td>\n",
       "      <td>SALESID0001</td>\n",
       "      <td>SITEID0001</td>\n",
       "      <td>ITEM0002</td>\n",
       "      <td>201310</td>\n",
       "      <td>2013</td>\n",
       "      <td>10</td>\n",
       "      <td>23</td>\n",
       "    </tr>\n",
       "    <tr>\n",
       "      <th>28698</th>\n",
       "      <td>A01</td>\n",
       "      <td>NaN</td>\n",
       "      <td>PG01</td>\n",
       "      <td>SALESID0001</td>\n",
       "      <td>SITEID0001</td>\n",
       "      <td>ITEM0002</td>\n",
       "      <td>201311</td>\n",
       "      <td>2013</td>\n",
       "      <td>11</td>\n",
       "      <td>17</td>\n",
       "    </tr>\n",
       "    <tr>\n",
       "      <th>28699</th>\n",
       "      <td>A01</td>\n",
       "      <td>NaN</td>\n",
       "      <td>PG01</td>\n",
       "      <td>SALESID0001</td>\n",
       "      <td>SITEID0001</td>\n",
       "      <td>ITEM0002</td>\n",
       "      <td>201312</td>\n",
       "      <td>2013</td>\n",
       "      <td>12</td>\n",
       "      <td>15</td>\n",
       "    </tr>\n",
       "    <tr>\n",
       "      <th>28700</th>\n",
       "      <td>A01</td>\n",
       "      <td>NaN</td>\n",
       "      <td>PG01</td>\n",
       "      <td>SALESID0001</td>\n",
       "      <td>SITEID0001</td>\n",
       "      <td>ITEM0002</td>\n",
       "      <td>201313</td>\n",
       "      <td>2013</td>\n",
       "      <td>13</td>\n",
       "      <td>17</td>\n",
       "    </tr>\n",
       "    <tr>\n",
       "      <th>28701</th>\n",
       "      <td>A01</td>\n",
       "      <td>NaN</td>\n",
       "      <td>PG01</td>\n",
       "      <td>SALESID0001</td>\n",
       "      <td>SITEID0001</td>\n",
       "      <td>ITEM0002</td>\n",
       "      <td>201314</td>\n",
       "      <td>2013</td>\n",
       "      <td>14</td>\n",
       "      <td>9</td>\n",
       "    </tr>\n",
       "    <tr>\n",
       "      <th>28702</th>\n",
       "      <td>A01</td>\n",
       "      <td>NaN</td>\n",
       "      <td>PG01</td>\n",
       "      <td>SALESID0001</td>\n",
       "      <td>SITEID0001</td>\n",
       "      <td>ITEM0002</td>\n",
       "      <td>201315</td>\n",
       "      <td>2013</td>\n",
       "      <td>15</td>\n",
       "      <td>27</td>\n",
       "    </tr>\n",
       "    <tr>\n",
       "      <th>28703</th>\n",
       "      <td>A01</td>\n",
       "      <td>NaN</td>\n",
       "      <td>PG01</td>\n",
       "      <td>SALESID0001</td>\n",
       "      <td>SITEID0001</td>\n",
       "      <td>ITEM0002</td>\n",
       "      <td>201316</td>\n",
       "      <td>2013</td>\n",
       "      <td>16</td>\n",
       "      <td>25</td>\n",
       "    </tr>\n",
       "    <tr>\n",
       "      <th>28704</th>\n",
       "      <td>A01</td>\n",
       "      <td>NaN</td>\n",
       "      <td>PG01</td>\n",
       "      <td>SALESID0001</td>\n",
       "      <td>SITEID0001</td>\n",
       "      <td>ITEM0002</td>\n",
       "      <td>201317</td>\n",
       "      <td>2013</td>\n",
       "      <td>17</td>\n",
       "      <td>23</td>\n",
       "    </tr>\n",
       "    <tr>\n",
       "      <th>28705</th>\n",
       "      <td>A01</td>\n",
       "      <td>NaN</td>\n",
       "      <td>PG01</td>\n",
       "      <td>SALESID0001</td>\n",
       "      <td>SITEID0001</td>\n",
       "      <td>ITEM0002</td>\n",
       "      <td>201318</td>\n",
       "      <td>2013</td>\n",
       "      <td>18</td>\n",
       "      <td>25</td>\n",
       "    </tr>\n",
       "    <tr>\n",
       "      <th>28706</th>\n",
       "      <td>A01</td>\n",
       "      <td>NaN</td>\n",
       "      <td>PG01</td>\n",
       "      <td>SALESID0001</td>\n",
       "      <td>SITEID0001</td>\n",
       "      <td>ITEM0002</td>\n",
       "      <td>201319</td>\n",
       "      <td>2013</td>\n",
       "      <td>19</td>\n",
       "      <td>40</td>\n",
       "    </tr>\n",
       "    <tr>\n",
       "      <th>28707</th>\n",
       "      <td>A01</td>\n",
       "      <td>NaN</td>\n",
       "      <td>PG01</td>\n",
       "      <td>SALESID0001</td>\n",
       "      <td>SITEID0001</td>\n",
       "      <td>ITEM0002</td>\n",
       "      <td>201320</td>\n",
       "      <td>2013</td>\n",
       "      <td>20</td>\n",
       "      <td>35</td>\n",
       "    </tr>\n",
       "    <tr>\n",
       "      <th>28708</th>\n",
       "      <td>A01</td>\n",
       "      <td>NaN</td>\n",
       "      <td>PG01</td>\n",
       "      <td>SALESID0001</td>\n",
       "      <td>SITEID0001</td>\n",
       "      <td>ITEM0002</td>\n",
       "      <td>201321</td>\n",
       "      <td>2013</td>\n",
       "      <td>21</td>\n",
       "      <td>43</td>\n",
       "    </tr>\n",
       "    <tr>\n",
       "      <th>28709</th>\n",
       "      <td>A01</td>\n",
       "      <td>NaN</td>\n",
       "      <td>PG01</td>\n",
       "      <td>SALESID0001</td>\n",
       "      <td>SITEID0001</td>\n",
       "      <td>ITEM0002</td>\n",
       "      <td>201322</td>\n",
       "      <td>2013</td>\n",
       "      <td>22</td>\n",
       "      <td>51</td>\n",
       "    </tr>\n",
       "    <tr>\n",
       "      <th>28710</th>\n",
       "      <td>A01</td>\n",
       "      <td>NaN</td>\n",
       "      <td>PG01</td>\n",
       "      <td>SALESID0001</td>\n",
       "      <td>SITEID0001</td>\n",
       "      <td>ITEM0002</td>\n",
       "      <td>201323</td>\n",
       "      <td>2013</td>\n",
       "      <td>23</td>\n",
       "      <td>17</td>\n",
       "    </tr>\n",
       "    <tr>\n",
       "      <th>28711</th>\n",
       "      <td>A01</td>\n",
       "      <td>NaN</td>\n",
       "      <td>PG01</td>\n",
       "      <td>SALESID0001</td>\n",
       "      <td>SITEID0001</td>\n",
       "      <td>ITEM0002</td>\n",
       "      <td>201324</td>\n",
       "      <td>2013</td>\n",
       "      <td>24</td>\n",
       "      <td>14</td>\n",
       "    </tr>\n",
       "    <tr>\n",
       "      <th>28712</th>\n",
       "      <td>A01</td>\n",
       "      <td>NaN</td>\n",
       "      <td>PG01</td>\n",
       "      <td>SALESID0001</td>\n",
       "      <td>SITEID0001</td>\n",
       "      <td>ITEM0002</td>\n",
       "      <td>201325</td>\n",
       "      <td>2013</td>\n",
       "      <td>25</td>\n",
       "      <td>59</td>\n",
       "    </tr>\n",
       "    <tr>\n",
       "      <th>28713</th>\n",
       "      <td>A01</td>\n",
       "      <td>NaN</td>\n",
       "      <td>PG01</td>\n",
       "      <td>SALESID0001</td>\n",
       "      <td>SITEID0001</td>\n",
       "      <td>ITEM0002</td>\n",
       "      <td>201326</td>\n",
       "      <td>2013</td>\n",
       "      <td>26</td>\n",
       "      <td>80</td>\n",
       "    </tr>\n",
       "    <tr>\n",
       "      <th>28714</th>\n",
       "      <td>A01</td>\n",
       "      <td>NaN</td>\n",
       "      <td>PG01</td>\n",
       "      <td>SALESID0001</td>\n",
       "      <td>SITEID0001</td>\n",
       "      <td>ITEM0002</td>\n",
       "      <td>201327</td>\n",
       "      <td>2013</td>\n",
       "      <td>27</td>\n",
       "      <td>73</td>\n",
       "    </tr>\n",
       "    <tr>\n",
       "      <th>28715</th>\n",
       "      <td>A01</td>\n",
       "      <td>NaN</td>\n",
       "      <td>PG01</td>\n",
       "      <td>SALESID0001</td>\n",
       "      <td>SITEID0001</td>\n",
       "      <td>ITEM0002</td>\n",
       "      <td>201328</td>\n",
       "      <td>2013</td>\n",
       "      <td>28</td>\n",
       "      <td>15</td>\n",
       "    </tr>\n",
       "    <tr>\n",
       "      <th>28716</th>\n",
       "      <td>A01</td>\n",
       "      <td>NaN</td>\n",
       "      <td>PG01</td>\n",
       "      <td>SALESID0001</td>\n",
       "      <td>SITEID0001</td>\n",
       "      <td>ITEM0002</td>\n",
       "      <td>201329</td>\n",
       "      <td>2013</td>\n",
       "      <td>29</td>\n",
       "      <td>1</td>\n",
       "    </tr>\n",
       "    <tr>\n",
       "      <th>28717</th>\n",
       "      <td>A01</td>\n",
       "      <td>NaN</td>\n",
       "      <td>PG01</td>\n",
       "      <td>SALESID0001</td>\n",
       "      <td>SITEID0001</td>\n",
       "      <td>ITEM0002</td>\n",
       "      <td>201339</td>\n",
       "      <td>2013</td>\n",
       "      <td>39</td>\n",
       "      <td>1</td>\n",
       "    </tr>\n",
       "    <tr>\n",
       "      <th>28718</th>\n",
       "      <td>A01</td>\n",
       "      <td>NaN</td>\n",
       "      <td>PG01</td>\n",
       "      <td>SALESID0001</td>\n",
       "      <td>SITEID0001</td>\n",
       "      <td>ITEM0002</td>\n",
       "      <td>201346</td>\n",
       "      <td>2013</td>\n",
       "      <td>46</td>\n",
       "      <td>1</td>\n",
       "    </tr>\n",
       "    <tr>\n",
       "      <th>67863</th>\n",
       "      <td>A01</td>\n",
       "      <td>NaN</td>\n",
       "      <td>PG01</td>\n",
       "      <td>SALESID0001</td>\n",
       "      <td>SITEID0001</td>\n",
       "      <td>ITEM0002</td>\n",
       "      <td>201435</td>\n",
       "      <td>2014</td>\n",
       "      <td>35</td>\n",
       "      <td>1</td>\n",
       "    </tr>\n",
       "    <tr>\n",
       "      <th>68721</th>\n",
       "      <td>A01</td>\n",
       "      <td>NaN</td>\n",
       "      <td>PG01</td>\n",
       "      <td>SALESID0001</td>\n",
       "      <td>SITEID0001</td>\n",
       "      <td>ITEM0002</td>\n",
       "      <td>201532</td>\n",
       "      <td>2015</td>\n",
       "      <td>32</td>\n",
       "      <td>1</td>\n",
       "    </tr>\n",
       "  </tbody>\n",
       "</table>\n",
       "</div>"
      ],
      "text/plain": [
       "      regionSeg1  productSeg1 productSeg2   regionSeg2  regionSeg3  \\\n",
       "28688        A01          NaN        PG01  SALESID0001  SITEID0001   \n",
       "28689        A01          NaN        PG01  SALESID0001  SITEID0001   \n",
       "28690        A01          NaN        PG01  SALESID0001  SITEID0001   \n",
       "28691        A01          NaN        PG01  SALESID0001  SITEID0001   \n",
       "28692        A01          NaN        PG01  SALESID0001  SITEID0001   \n",
       "28693        A01          NaN        PG01  SALESID0001  SITEID0001   \n",
       "28694        A01          NaN        PG01  SALESID0001  SITEID0001   \n",
       "28695        A01          NaN        PG01  SALESID0001  SITEID0001   \n",
       "28696        A01          NaN        PG01  SALESID0001  SITEID0001   \n",
       "28697        A01          NaN        PG01  SALESID0001  SITEID0001   \n",
       "28698        A01          NaN        PG01  SALESID0001  SITEID0001   \n",
       "28699        A01          NaN        PG01  SALESID0001  SITEID0001   \n",
       "28700        A01          NaN        PG01  SALESID0001  SITEID0001   \n",
       "28701        A01          NaN        PG01  SALESID0001  SITEID0001   \n",
       "28702        A01          NaN        PG01  SALESID0001  SITEID0001   \n",
       "28703        A01          NaN        PG01  SALESID0001  SITEID0001   \n",
       "28704        A01          NaN        PG01  SALESID0001  SITEID0001   \n",
       "28705        A01          NaN        PG01  SALESID0001  SITEID0001   \n",
       "28706        A01          NaN        PG01  SALESID0001  SITEID0001   \n",
       "28707        A01          NaN        PG01  SALESID0001  SITEID0001   \n",
       "28708        A01          NaN        PG01  SALESID0001  SITEID0001   \n",
       "28709        A01          NaN        PG01  SALESID0001  SITEID0001   \n",
       "28710        A01          NaN        PG01  SALESID0001  SITEID0001   \n",
       "28711        A01          NaN        PG01  SALESID0001  SITEID0001   \n",
       "28712        A01          NaN        PG01  SALESID0001  SITEID0001   \n",
       "28713        A01          NaN        PG01  SALESID0001  SITEID0001   \n",
       "28714        A01          NaN        PG01  SALESID0001  SITEID0001   \n",
       "28715        A01          NaN        PG01  SALESID0001  SITEID0001   \n",
       "28716        A01          NaN        PG01  SALESID0001  SITEID0001   \n",
       "28717        A01          NaN        PG01  SALESID0001  SITEID0001   \n",
       "28718        A01          NaN        PG01  SALESID0001  SITEID0001   \n",
       "67863        A01          NaN        PG01  SALESID0001  SITEID0001   \n",
       "68721        A01          NaN        PG01  SALESID0001  SITEID0001   \n",
       "\n",
       "      productSeg3  yearweek  year  week  qty  \n",
       "28688    ITEM0002    201301  2013     1   16  \n",
       "28689    ITEM0002    201302  2013     2   13  \n",
       "28690    ITEM0002    201303  2013     3   24  \n",
       "28691    ITEM0002    201304  2013     4   33  \n",
       "28692    ITEM0002    201305  2013     5   16  \n",
       "28693    ITEM0002    201306  2013     6   14  \n",
       "28694    ITEM0002    201307  2013     7   26  \n",
       "28695    ITEM0002    201308  2013     8   27  \n",
       "28696    ITEM0002    201309  2013     9   17  \n",
       "28697    ITEM0002    201310  2013    10   23  \n",
       "28698    ITEM0002    201311  2013    11   17  \n",
       "28699    ITEM0002    201312  2013    12   15  \n",
       "28700    ITEM0002    201313  2013    13   17  \n",
       "28701    ITEM0002    201314  2013    14    9  \n",
       "28702    ITEM0002    201315  2013    15   27  \n",
       "28703    ITEM0002    201316  2013    16   25  \n",
       "28704    ITEM0002    201317  2013    17   23  \n",
       "28705    ITEM0002    201318  2013    18   25  \n",
       "28706    ITEM0002    201319  2013    19   40  \n",
       "28707    ITEM0002    201320  2013    20   35  \n",
       "28708    ITEM0002    201321  2013    21   43  \n",
       "28709    ITEM0002    201322  2013    22   51  \n",
       "28710    ITEM0002    201323  2013    23   17  \n",
       "28711    ITEM0002    201324  2013    24   14  \n",
       "28712    ITEM0002    201325  2013    25   59  \n",
       "28713    ITEM0002    201326  2013    26   80  \n",
       "28714    ITEM0002    201327  2013    27   73  \n",
       "28715    ITEM0002    201328  2013    28   15  \n",
       "28716    ITEM0002    201329  2013    29    1  \n",
       "28717    ITEM0002    201339  2013    39    1  \n",
       "28718    ITEM0002    201346  2013    46    1  \n",
       "67863    ITEM0002    201435  2014    35    1  \n",
       "68721    ITEM0002    201532  2015    32    1  "
      ]
     },
     "execution_count": 12,
     "metadata": {},
     "output_type": "execute_result"
    }
   ],
   "source": [
    "eachData = groupData.get_group(list(groupData.groups)[1])\n",
    "eachData"
   ]
  },
  {
   "cell_type": "code",
   "execution_count": null,
   "metadata": {},
   "outputs": [],
   "source": []
  },
  {
   "cell_type": "code",
   "execution_count": 18,
   "metadata": {},
   "outputs": [],
   "source": [
    "yearweekList = [201501,201502,201505]"
   ]
  },
  {
   "cell_type": "code",
   "execution_count": 2,
   "metadata": {},
   "outputs": [],
   "source": [
    "itemList = ['item0445','item0445','item0445']"
   ]
  },
  {
   "cell_type": "code",
   "execution_count": 11,
   "metadata": {},
   "outputs": [],
   "source": [
    "qtyList = [5,7,4]"
   ]
  },
  {
   "cell_type": "code",
   "execution_count": 12,
   "metadata": {
    "scrolled": true
   },
   "outputs": [],
   "source": [
    "qtydf = pd.DataFrame(qtyList)"
   ]
  },
  {
   "cell_type": "code",
   "execution_count": 14,
   "metadata": {},
   "outputs": [],
   "source": [
    "itemdf = pd.DataFrame(itemList)"
   ]
  },
  {
   "cell_type": "code",
   "execution_count": 19,
   "metadata": {},
   "outputs": [],
   "source": [
    "yearweekdf = pd.DataFrame(yearweekList)"
   ]
  },
  {
   "cell_type": "code",
   "execution_count": 20,
   "metadata": {},
   "outputs": [],
   "source": [
    "a= pd.concat([itemdf,yearweekdf,qtydf],axis=1)"
   ]
  },
  {
   "cell_type": "code",
   "execution_count": 21,
   "metadata": {},
   "outputs": [],
   "source": [
    "a.columns = ['items','yearweek','qty']"
   ]
  },
  {
   "cell_type": "code",
   "execution_count": 22,
   "metadata": {},
   "outputs": [],
   "source": [
    "minyearweek = a.yearweek.min()"
   ]
  },
  {
   "cell_type": "code",
   "execution_count": 23,
   "metadata": {},
   "outputs": [],
   "source": [
    "maxyearweek = a.yearweek.max()"
   ]
  },
  {
   "cell_type": "code",
   "execution_count": 24,
   "metadata": {},
   "outputs": [
    {
     "data": {
      "text/plain": [
       "201501"
      ]
     },
     "execution_count": 24,
     "metadata": {},
     "output_type": "execute_result"
    }
   ],
   "source": [
    "minyearweek"
   ]
  },
  {
   "cell_type": "code",
   "execution_count": 33,
   "metadata": {},
   "outputs": [],
   "source": [
    "fullyearweek = []"
   ]
  },
  {
   "cell_type": "code",
   "execution_count": 29,
   "metadata": {},
   "outputs": [],
   "source": [
    "fullyearweek.append(minyearweek)"
   ]
  },
  {
   "cell_type": "code",
   "execution_count": 31,
   "metadata": {},
   "outputs": [],
   "source": [
    "fullyearweek.append(maxyearweek)"
   ]
  },
  {
   "cell_type": "code",
   "execution_count": 34,
   "metadata": {
    "scrolled": true
   },
   "outputs": [
    {
     "data": {
      "text/plain": [
       "[]"
      ]
     },
     "execution_count": 34,
     "metadata": {},
     "output_type": "execute_result"
    }
   ],
   "source": [
    "fullyearweek"
   ]
  },
  {
   "cell_type": "code",
   "execution_count": null,
   "metadata": {},
   "outputs": [],
   "source": []
  },
  {
   "cell_type": "code",
   "execution_count": 35,
   "metadata": {},
   "outputs": [],
   "source": [
    "fullyearweek.append(minyearweek)"
   ]
  },
  {
   "cell_type": "code",
   "execution_count": 36,
   "metadata": {},
   "outputs": [],
   "source": [
    "i=minyearweek"
   ]
  },
  {
   "cell_type": "code",
   "execution_count": 37,
   "metadata": {},
   "outputs": [],
   "source": [
    "fullyearweek.append(i)"
   ]
  },
  {
   "cell_type": "code",
   "execution_count": 38,
   "metadata": {},
   "outputs": [
    {
     "data": {
      "text/plain": [
       "[201501, 201501]"
      ]
     },
     "execution_count": 38,
     "metadata": {},
     "output_type": "execute_result"
    }
   ],
   "source": [
    "fullyearweek"
   ]
  },
  {
   "cell_type": "code",
   "execution_count": 39,
   "metadata": {},
   "outputs": [],
   "source": [
    "while (max(fullyearweek) <= 201505):\n",
    "    fullyearweek.append(i+1)\n",
    "    i=i+1"
   ]
  },
  {
   "cell_type": "code",
   "execution_count": 40,
   "metadata": {},
   "outputs": [
    {
     "data": {
      "text/plain": [
       "[201501, 201501, 201502, 201503, 201504, 201505, 201506]"
      ]
     },
     "execution_count": 40,
     "metadata": {},
     "output_type": "execute_result"
    }
   ],
   "source": [
    "fullyearweek"
   ]
  },
  {
   "cell_type": "code",
   "execution_count": 41,
   "metadata": {},
   "outputs": [
    {
     "data": {
      "text/plain": [
       "[201501, 201502, 201505]"
      ]
     },
     "execution_count": 41,
     "metadata": {},
     "output_type": "execute_result"
    }
   ],
   "source": [
    "list(a.yearweek.values)"
   ]
  },
  {
   "cell_type": "code",
   "execution_count": 42,
   "metadata": {},
   "outputs": [
    {
     "data": {
      "text/plain": [
       "{201501, 201502, 201505}"
      ]
     },
     "execution_count": 42,
     "metadata": {},
     "output_type": "execute_result"
    }
   ],
   "source": [
    "set(list(a.yearweek.values))"
   ]
  },
  {
   "cell_type": "code",
   "execution_count": null,
   "metadata": {},
   "outputs": [],
   "source": [
    "emptyyearweek = set(fullyearweek=set(list(a.yearweek.values)) hahahhahahah aniutguna dgatchi  handakjfjfjfj"
   ]
  }
 ],
 "metadata": {
  "kernelspec": {
   "display_name": "Python 3",
   "language": "python",
   "name": "python3"
  },
  "language_info": {
   "codemirror_mode": {
    "name": "ipython",
    "version": 3
   },
   "file_extension": ".py",
   "mimetype": "text/x-python",
   "name": "python",
   "nbconvert_exporter": "python",
   "pygments_lexer": "ipython3",
   "version": "3.7.1"
  }
 },
 "nbformat": 4,
 "nbformat_minor": 2
}
