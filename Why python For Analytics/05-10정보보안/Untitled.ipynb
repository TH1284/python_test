{
 "cells": [
  {
   "cell_type": "code",
   "execution_count": 7,
   "metadata": {},
   "outputs": [
    {
     "name": "stdout",
     "output_type": "stream",
     "text": [
      "('google-public-dns-a.google.com', [], ['8.8.8.8'])\n"
     ]
    }
   ],
   "source": [
    "import socket\n",
    "print(socket.gethostbyaddr(\"8.8.8.8\"))"
   ]
  },
  {
   "cell_type": "code",
   "execution_count": 8,
   "metadata": {},
   "outputs": [
    {
     "name": "stdout",
     "output_type": "stream",
     "text": [
      "203.133.167.16\n"
     ]
    }
   ],
   "source": [
    "print(socket.gethostbyname(\"www.daum.net\"))"
   ]
  },
  {
   "cell_type": "code",
   "execution_count": 12,
   "metadata": {},
   "outputs": [],
   "source": [
    "host='192.168.110.116'\n",
    "mysock=socket.socket(socket.AF_INET, socket.SOCK_STREAM)\n",
    "addr=(host,8000)\n",
    "mysock.connect(addr)\n",
    "\n",
    "try:\n",
    "    msg=b\"This is a test\\n\"\n",
    "    mysock.sendall(msg)\n",
    "except socket.errno as e:\n",
    "    print(\"Socket error \", e)\n",
    "finally:\n",
    "    mysock.close()"
   ]
  },
  {
   "cell_type": "code",
   "execution_count": 13,
   "metadata": {},
   "outputs": [],
   "source": [
    "host='192.168.110.116'\n",
    "mysock=socket.socket(socket.AF_INET, socket.SOCK_STREAM)\n",
    "addr=(host,8000)\n",
    "mysock.connect(addr)\n",
    "\n",
    "try:\n",
    "    msg=b\"This is a test\\n\"\n",
    "    mysock.sendall(msg)\n",
    "except socket.errno as e:\n",
    "    print(\"Socket error \", e)\n",
    "finally:\n",
    "    mysock.close()"
   ]
  },
  {
   "cell_type": "code",
   "execution_count": 14,
   "metadata": {
    "scrolled": false
   },
   "outputs": [
    {
     "name": "stdout",
     "output_type": "stream",
     "text": [
      "closing connection\n",
      "['HTTP/1.1 200 OK', 'Date: Fri, 10 May 2019 08:30:31 GMT', 'Server: Apache', 'Cache-Control: no-store, no-cache, must-revalidate', 'Pragma: no-cache', 'Vary: Accept-Encoding', 'Content-Length: 77', 'Connection: close', 'Content-Type: text/html; charset=utf-8', 'Content-Language: ko', '', \"<script type='text/javascript'>location.href='https://www.nate.com';</script>\"]\n"
     ]
    }
   ],
   "source": [
    "import socket\n",
    "\n",
    "sock = socket.socket(socket.AF_INET, socket.SOCK_STREAM)\n",
    "sock.connect((\"www.nate.com\", 80))\n",
    "\n",
    "\n",
    "data = ''\n",
    "try:\n",
    "    sock.sendall(b\"GET / HTTP/1.1\\r\\nHost: nate.com\\r\\n\\r\\n\")\n",
    "    data = sock.recvfrom(1024)\n",
    "except socket.error:\n",
    "    print (\"Socket error\", socket.errno)\n",
    "finally:\n",
    "    print(\"closing connection\")\n",
    "    sock.close()\n",
    "\n",
    "strdata = data[0].decode(\"utf-8\")\n",
    "print( strdata.splitlines())"
   ]
  },
  {
   "cell_type": "code",
   "execution_count": 16,
   "metadata": {},
   "outputs": [
    {
     "name": "stdout",
     "output_type": "stream",
     "text": [
      "closing connection\n",
      "['HTTP/1.0 200 OK', 'Server: SimpleHTTP/0.6 Python/3.6.5', 'Date: Fri, 10 May 2019 08:32:04 GMT', 'Content-type: text/html; charset=utf-8', 'Content-Length: 649', '']\n"
     ]
    }
   ],
   "source": [
    "import socket\n",
    "\n",
    "sock = socket.socket(socket.AF_INET, socket.SOCK_STREAM)\n",
    "sock.connect((\"192.168.110.116\", 8080))\n",
    "\n",
    "\n",
    "data = ''\n",
    "try:\n",
    "    sock.sendall(b\"GET / HTTP/1.1\\r\\nHost: dev.smrt.net\\r\\n\\r\\n\")\n",
    "    data = sock.recvfrom(1024)\n",
    "except socket.error:\n",
    "    print (\"Socket error\", socket.errno)\n",
    "finally:\n",
    "    print(\"closing connection\")\n",
    "    sock.close()\n",
    "\n",
    "strdata = data[0].decode(\"utf-8\")\n",
    "print( strdata.splitlines())\n",
    "\n"
   ]
  },
  {
   "cell_type": "code",
   "execution_count": null,
   "metadata": {},
   "outputs": [],
   "source": []
  }
 ],
 "metadata": {
  "kernelspec": {
   "display_name": "Python 3",
   "language": "python",
   "name": "python3"
  },
  "language_info": {
   "codemirror_mode": {
    "name": "ipython",
    "version": 3
   },
   "file_extension": ".py",
   "mimetype": "text/x-python",
   "name": "python",
   "nbconvert_exporter": "python",
   "pygments_lexer": "ipython3",
   "version": "3.7.1"
  }
 },
 "nbformat": 4,
 "nbformat_minor": 2
}
