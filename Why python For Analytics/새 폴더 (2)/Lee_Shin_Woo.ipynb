{
 "cells": [
  {
   "cell_type": "code",
   "execution_count": 5,
   "metadata": {},
   "outputs": [],
   "source": [
    "import pandas as pd"
   ]
  },
  {
   "cell_type": "code",
   "execution_count": 8,
   "metadata": {},
   "outputs": [
    {
     "data": {
      "text/plain": [
       "35218.95312635417"
      ]
     },
     "execution_count": 8,
     "metadata": {},
     "output_type": "execute_result"
    }
   ],
   "source": [
    "def average_go(customerTotalListt):\n",
    "\n",
    "    customerTotalList = customerData[\"TOTAL_AMOUNT\"].tolist()\n",
    "\n",
    "    del customerTotalList[customerTotalList.index(min(customerTotalList))]\n",
    "    del customerTotalList[customerTotalList.index(max(customerTotalList))]\n",
    "\n",
    "    average = sum(customerTotalList)/len(customerTotalList)\n",
    "    \n",
    "    return average\n",
    "\n",
    "customerData = pd.read_csv(\"../dataset/kopo_customerdata.csv\")\n",
    "\n",
    "average_go(customerData)"
   ]
  }
 ],
 "metadata": {
  "kernelspec": {
   "display_name": "Python 3",
   "language": "python",
   "name": "python3"
  },
  "language_info": {
   "codemirror_mode": {
    "name": "ipython",
    "version": 3
   },
   "file_extension": ".py",
   "mimetype": "text/x-python",
   "name": "python",
   "nbconvert_exporter": "python",
   "pygments_lexer": "ipython3",
   "version": "3.7.1"
  }
 },
 "nbformat": 4,
 "nbformat_minor": 2
}
