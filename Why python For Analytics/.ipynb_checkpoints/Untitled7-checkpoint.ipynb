{
 "cells": [
  {
   "cell_type": "code",
   "execution_count": 22,
   "metadata": {},
   "outputs": [],
   "source": [
    "import threading\n",
    "  ## threading 모듈을 이용\n",
    "  \n",
    "  ## threading.Thread를 상속받는 클래스를 만들어서 run하여 객체를 생성한다.\n",
    "class Messenger(threading.Thread):\n",
    "      \n",
    "    def run(self):\n",
    "        for _ in range(10):\n",
    "              ## 변수를 지정하지 않고 단순 반복을 하고 싶을 때는 _언더바를 사용한다.\n",
    "            print(threading.currentThread().getName())\n",
    "              \n",
    "  \n"
   ]
  },
  {
   "cell_type": "code",
   "execution_count": 24,
   "metadata": {
    "scrolled": true
   },
   "outputs": [
    {
     "name": "stdout",
     "output_type": "stream",
     "text": [
      "Sending out Messages\n",
      "Sending out Messages\n",
      "Sending out Messages\n",
      "Sending out Messages\n",
      "Sending out Messages\n",
      "Sending out Messages\n",
      "Sending out Messages\n",
      "Sending out Messages\n",
      "Sending out Messages\n",
      "Sending out Messages\n",
      "Receiving Messages\n",
      "Receiving Messages\n",
      "Receiving Messages\n",
      "Receiving Messages\n",
      "Receiving Messages\n",
      "Receiving Messages\n",
      "Receiving Messages\n",
      "Receiving Messages\n",
      "Receiving Messages\n",
      "Receiving Messages\n"
     ]
    }
   ],
   "source": [
    "send = Messenger(name=\"Sending out Messages\")\n",
    "receive = Messenger(name=\"Receiving Messages\")\n",
    "\n",
    "send.start()\n",
    "receive.start()"
   ]
  },
  {
   "cell_type": "code",
   "execution_count": 26,
   "metadata": {},
   "outputs": [
    {
     "ename": "IndentationError",
     "evalue": "unexpected indent (<ipython-input-26-f2befd5a1ad8>, line 3)",
     "output_type": "error",
     "traceback": [
      "\u001b[1;36m  File \u001b[1;32m\"<ipython-input-26-f2befd5a1ad8>\"\u001b[1;36m, line \u001b[1;32m3\u001b[0m\n\u001b[1;33m    ​\u001b[0m\n\u001b[1;37m    ^\u001b[0m\n\u001b[1;31mIndentationError\u001b[0m\u001b[1;31m:\u001b[0m unexpected indent\n"
     ]
    }
   ],
   "source": [
    "from threading import Thread\n",
    "import time\n",
    "  ​\n",
    "def my_thread(val):\n",
    "    for i in range(3):\n",
    "         print(\"I'm Thread\")\n",
    "        time.sleep(1)\n",
    "  \n",
    "  \n",
    "  ## 인스턴스 만들기\n",
    "  ## 첫번째 argu는 스레드 함수 이름, 두번째 argu는 매개변수를 튜플 형태로 전달한 것.\n",
    "t1 = Thread(target = my_thread, args=(1,))\n",
    "  ​\n",
    "  ## 스레드 시작.\n",
    "t1.start()\n",
    "t1.join()\n",
    "  ​\n",
    "  ## main\n",
    "for i in range(3):\n",
    "    print(\"I'm main Thread\")\n",
    "    time.sleep(1)\n",
    "print(\"----the end----\")"
   ]
  }
 ],
 "metadata": {
  "kernelspec": {
   "display_name": "Python 3",
   "language": "python",
   "name": "python3"
  },
  "language_info": {
   "codemirror_mode": {
    "name": "ipython",
    "version": 3
   },
   "file_extension": ".py",
   "mimetype": "text/x-python",
   "name": "python",
   "nbconvert_exporter": "python",
   "pygments_lexer": "ipython3",
   "version": "3.7.1"
  }
 },
 "nbformat": 4,
 "nbformat_minor": 2
}
