{
 "cells": [
  {
   "cell_type": "code",
   "execution_count": 1,
   "metadata": {},
   "outputs": [],
   "source": [
    "import pandas as pd\n",
    "\n",
    "kopoCD = pd.read_csv(\"./dataset/kopo_customerdata.csv\")\n",
    "kopoCD\n",
    "\n",
    "kopoCD2 = kopoCD[[\"CUSTOMERCODE\",\"STATENAME\",\"GENDER\",\"TOTAL_AMOUNT\"]]\n",
    "kopoCD2\n",
    "\n",
    "kopoCDcolumns=kopoCD.columns\n",
    "\n",
    "a = kopoCDcolumns.get_loc(\"STATENAME\")\n",
    "a\n",
    "\n",
    "kopoCD3 = kopoCD.iloc[0:6,[a]]\n",
    "kopoCD3\n",
    "\n",
    "kopoCSN = pd.read_csv(\"./dataset/kopo_channel_seasonality_new.csv\")\n",
    "kopoCSN\n",
    "\n",
    "import numpy as np\n",
    "\n",
    "kopoCSN[\"QTY_NEW\"] = np.where(kopoCSN[\"QTY\"]<0,0,kopoCSN[\"QTY\"])\n",
    "kopoCSN\n",
    "\n",
    "kopoCSN[\"YEARWEEK\"] = kopoCSN[\"YEARWEEK\"].astype(str)\n",
    "\n",
    "kopoCSN[\"YEAR\"] = kopoCSN[\"YEARWEEK\"].str[0:4]\n",
    "kopoCSN[\"WEEK\"] = kopoCSN[\"YEARWEEK\"].str[4:]\n",
    "kopoCSN\n",
    "\n",
    "kopoCSN[\"WEEK\"] = kopoCSN[\"WEEK\"].astype(int)\n",
    "\n",
    "refinedSelloutData = kopoCSN[kopoCSN.WEEK < 53]\n",
    "refinedSelloutData\n",
    "\n",
    "sortedData = refinedSelloutData.sort_values([\"REGIONID\",\"PRODUCT\",\"YEARWEEK\"],ascending=[True,False,True])\n",
    "sortedData\n",
    "\n",
    "groupData = sortedData.\\\n",
    "groupby([\"REGIONID\",\"PRODUCT\",\"YEAR\"]).agg\\\n",
    "(['mean','std'])['QTY_NEW']\n",
    "groupData\n",
    "\n",
    "groupData2 = groupData.reset_index()\n",
    "groupData2\n",
    "\n",
    "groupData2.columns = [\"REGIONID\",\"PRODUCT\",\"YEAR\",\"QTY_MEAN\",\"QTY_STD\"]\n",
    "groupData2"
   ]
  },
  {
   "cell_type": "code",
   "execution_count": null,
   "metadata": {},
   "outputs": [],
   "source": []
  }
 ],
 "metadata": {
  "kernelspec": {
   "display_name": "Python 3",
   "language": "python",
   "name": "python3"
  },
  "language_info": {
   "codemirror_mode": {
    "name": "ipython",
    "version": 3
   },
   "file_extension": ".py",
   "mimetype": "text/x-python",
   "name": "python",
   "nbconvert_exporter": "python",
   "pygments_lexer": "ipython3",
   "version": "3.7.1"
  }
 },
 "nbformat": 4,
 "nbformat_minor": 2
}
