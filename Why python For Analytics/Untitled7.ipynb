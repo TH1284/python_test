{
 "cells": [
  {
   "cell_type": "code",
   "execution_count": 22,
   "metadata": {},
   "outputs": [],
   "source": [
    "import threading\n",
    "  ## threading 모듈을 이용\n",
    "  \n",
    "  ## threading.Thread를 상속받는 클래스를 만들어서 run하여 객체를 생성한다.\n",
    "class Messenger(threading.Thread):\n",
    "      \n",
    "    def run(self):\n",
    "        for _ in range(10):\n",
    "              ## 변수를 지정하지 않고 단순 반복을 하고 싶을 때는 _언더바를 사용한다.\n",
    "            print(threading.currentThread().getName())\n",
    "              \n",
    "  \n"
   ]
  },
  {
   "cell_type": "code",
   "execution_count": 24,
   "metadata": {
    "scrolled": true
   },
   "outputs": [
    {
     "name": "stdout",
     "output_type": "stream",
     "text": [
      "Sending out Messages\n",
      "Sending out Messages\n",
      "Sending out Messages\n",
      "Sending out Messages\n",
      "Sending out Messages\n",
      "Sending out Messages\n",
      "Sending out Messages\n",
      "Sending out Messages\n",
      "Sending out Messages\n",
      "Sending out Messages\n",
      "Receiving Messages\n",
      "Receiving Messages\n",
      "Receiving Messages\n",
      "Receiving Messages\n",
      "Receiving Messages\n",
      "Receiving Messages\n",
      "Receiving Messages\n",
      "Receiving Messages\n",
      "Receiving Messages\n",
      "Receiving Messages\n"
     ]
    }
   ],
   "source": [
    "send = Messenger(name=\"Sending out Messages\")\n",
    "receive = Messenger(name=\"Receiving Messages\")\n",
    "\n",
    "send.start()\n",
    "receive.start()"
   ]
  },
  {
   "cell_type": "code",
   "execution_count": 37,
   "metadata": {},
   "outputs": [
    {
     "name": "stdout",
     "output_type": "stream",
     "text": [
      "I'm Thread\n",
      "I'm Thread\n",
      "I'm Thread\n",
      "I'm Thread\n",
      "I'm Thread\n",
      "I'm main Thread\n",
      "I'm main Thread\n",
      "I'm main Thread\n",
      "I'm main Thread\n",
      "I'm main Thread\n",
      "I'm main Thread\n",
      "I'm main Thread\n",
      "----the end----\n"
     ]
    }
   ],
   "source": [
    "from threading import Thread\n",
    "import time\n",
    "\n",
    "def my_thread(val):\n",
    "    for i in range(5):\n",
    "         print(\"I'm Thread\")\n",
    "    time.sleep(1)\n",
    "  \n",
    "  \n",
    "  ## 인스턴스 만들기\n",
    "  ## 첫번째 argu는 스레드 함수 이름, 두번째 argu는 매개변수를 튜플 형태로 전달한 것.\n",
    "t1 = Thread(target = my_thread, args=(1,))\n",
    "  \n",
    "  ## 스레드 시작.\n",
    "t1.start()\n",
    "t1.join()\n",
    "  \n",
    "  ## main\n",
    "for i in range(7):\n",
    "    print(\"I'm main Thread\")\n",
    "    time.sleep(1)\n",
    "print(\"----the end----\")\n"
   ]
  },
  {
   "cell_type": "code",
   "execution_count": null,
   "metadata": {},
   "outputs": [],
   "source": []
  }
 ],
 "metadata": {
  "kernelspec": {
   "display_name": "Python 3",
   "language": "python",
   "name": "python3"
  },
  "language_info": {
   "codemirror_mode": {
    "name": "ipython",
    "version": 3
   },
   "file_extension": ".py",
   "mimetype": "text/x-python",
   "name": "python",
   "nbconvert_exporter": "python",
   "pygments_lexer": "ipython3",
   "version": "3.7.1"
  }
 },
 "nbformat": 4,
 "nbformat_minor": 2
}
