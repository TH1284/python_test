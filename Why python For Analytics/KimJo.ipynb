{
 "cells": [
  {
   "cell_type": "code",
   "execution_count": 240,
   "metadata": {},
   "outputs": [],
   "source": [
    "from isoweek import Week"
   ]
  },
  {
   "cell_type": "code",
   "execution_count": 242,
   "metadata": {},
   "outputs": [],
   "source": [
    "inputYearWeek = \"201720\"\n",
    "inputgapWeek = \"100\""
   ]
  },
  {
   "cell_type": "code",
   "execution_count": 243,
   "metadata": {},
   "outputs": [],
   "source": [
    "inputYearWeek = str(inputYearWeek)"
   ]
  },
  {
   "cell_type": "code",
   "execution_count": 244,
   "metadata": {},
   "outputs": [],
   "source": [
    "currentYear = int(inputYearWeek[0:4])"
   ]
  },
  {
   "cell_type": "code",
   "execution_count": 245,
   "metadata": {},
   "outputs": [
    {
     "data": {
      "text/plain": [
       "int"
      ]
     },
     "execution_count": 245,
     "metadata": {},
     "output_type": "execute_result"
    }
   ],
   "source": [
    "currentWeek = int(inputYearWeek[4:])\n",
    "type(currentWeek)"
   ]
  },
  {
   "cell_type": "code",
   "execution_count": 246,
   "metadata": {},
   "outputs": [],
   "source": [
    "Gap = currentWeek - int(inputgapWeek)"
   ]
  },
  {
   "cell_type": "code",
   "execution_count": 247,
   "metadata": {},
   "outputs": [
    {
     "name": "stdout",
     "output_type": "stream",
     "text": [
      "2015 25\n"
     ]
    }
   ],
   "source": [
    "while Gap <= 0 :\n",
    "    currentYear = currentYear - 1\n",
    "    Gap = Week.last_week_of_year(currentYear).week + Gap\n",
    "print(currentYear,Gap)"
   ]
  },
  {
   "cell_type": "code",
   "execution_count": 248,
   "metadata": {},
   "outputs": [
    {
     "data": {
      "text/plain": [
       "'201525'"
      ]
     },
     "execution_count": 248,
     "metadata": {},
     "output_type": "execute_result"
    }
   ],
   "source": [
    "if (Gap < 10) :\n",
    "    returnYearWeek=str(currentYear)+\"0\"+str(Gap)\n",
    "else:\n",
    "    returnYearWeek = str(currentYear)+str(Gap)\n",
    "\n",
    "returnYearWeek"
   ]
  },
  {
   "cell_type": "code",
   "execution_count": 249,
   "metadata": {},
   "outputs": [],
   "source": [
    "def preWeek (inputYearWeek, inputgapWeek):\n",
    "    inputYearWeek = str(inputYearWeek)\n",
    "    currentYear = int(inputYearWeek[0:4])\n",
    "    currentWeek = int(inputYearWeek[4:])\n",
    "    Gap = currentWeek - int(inputgapWeek)\n",
    "    while Gap <= 0 :\n",
    "        currentYear = currentYear - 1\n",
    "        Gap = Week.last_week_of_year(currentYear).week + Gap\n",
    "    if (Gap < 10) :\n",
    "        returnYearWeek=str(currentYear)+\"0\"+str(Gap)\n",
    "    else:\n",
    "        returnYearWeek = str(currentYear)+str(Gap)\n",
    "\n",
    "    return returnYearWeek"
   ]
  },
  {
   "cell_type": "code",
   "execution_count": 339,
   "metadata": {},
   "outputs": [
    {
     "data": {
      "text/plain": [
       "'200020'"
      ]
     },
     "execution_count": 339,
     "metadata": {},
     "output_type": "execute_result"
    }
   ],
   "source": [
    "preWeek(\"201929\",1000)"
   ]
  },
  {
   "cell_type": "code",
   "execution_count": 347,
   "metadata": {},
   "outputs": [],
   "source": [
    "def preWeekFor (inputYearWeek, inputgapWeek):\n",
    "    \n",
    "    inputYearWeek = str(inputYearWeek)\n",
    "    \n",
    "    currentYear = int(inputYearWeek[0:4])\n",
    "    currentWeek = int(inputYearWeek[4:])\n",
    "    \n",
    "    Gap = currentWeek - int(inputgapWeek)\n",
    "    \n",
    "    for i in range(0,125164375686) :\n",
    "        if(Gap<=0):\n",
    "            currentYear = currentYear - 1\n",
    "            Gap = Week.last_week_of_year(currentYear).week + Gap\n",
    "        else:\n",
    "            break\n",
    "        \n",
    "    if (Gap < 10) :\n",
    "        returnYearWeek=str(currentYear)+\"0\"+str(Gap)\n",
    "    else:\n",
    "        returnYearWeek = str(currentYear)+str(Gap)\n",
    "\n",
    "    return returnYearWeek"
   ]
  },
  {
   "cell_type": "code",
   "execution_count": 348,
   "metadata": {},
   "outputs": [
    {
     "data": {
      "text/plain": [
       "'200020'"
      ]
     },
     "execution_count": 348,
     "metadata": {},
     "output_type": "execute_result"
    }
   ],
   "source": [
    "preWeekFor(\"201929\",1000)"
   ]
  },
  {
   "cell_type": "code",
   "execution_count": null,
   "metadata": {},
   "outputs": [],
   "source": []
  }
 ],
 "metadata": {
  "kernelspec": {
   "display_name": "Python 3",
   "language": "python",
   "name": "python3"
  },
  "language_info": {
   "codemirror_mode": {
    "name": "ipython",
    "version": 3
   },
   "file_extension": ".py",
   "mimetype": "text/x-python",
   "name": "python",
   "nbconvert_exporter": "python",
   "pygments_lexer": "ipython3",
   "version": "3.7.1"
  }
 },
 "nbformat": 4,
 "nbformat_minor": 2
}
