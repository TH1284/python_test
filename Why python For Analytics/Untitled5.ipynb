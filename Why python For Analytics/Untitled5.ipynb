{
 "cells": [
  {
   "cell_type": "code",
   "execution_count": 2,
   "metadata": {},
   "outputs": [
    {
     "name": "stdout",
     "output_type": "stream",
     "text": [
      "('google-public-dns-a.google.com', [], ['8.8.8.8'])\n"
     ]
    }
   ],
   "source": [
    "import socket\n",
    "\n",
    "print(socket.gethostbyaddr(\"8.8.8.8\"))"
   ]
  },
  {
   "cell_type": "code",
   "execution_count": 3,
   "metadata": {},
   "outputs": [
    {
     "name": "stdout",
     "output_type": "stream",
     "text": [
      "211.231.99.80\n"
     ]
    }
   ],
   "source": [
    "print(socket.gethostbyname(\"www.daum.net\"))"
   ]
  },
  {
   "cell_type": "code",
   "execution_count": null,
   "metadata": {},
   "outputs": [],
   "source": [
    "host='192.168.110.116'\n",
    "mysock=socket.socket(socket.AF_INET, socket.SOCK_STREAM)\n",
    "addr=(host,8042)\n",
    "mysock.connect(addr)\n",
    "\n",
    "try:\n",
    "    msg=b\"This is a test\\n\"\n",
    "    mysock.sendall(msg)\n",
    "except socket.errno as e:\n",
    "    print(\"Socket error \", e)\n",
    "finally:\n",
    "    mysock.close()"
   ]
  }
 ],
 "metadata": {
  "kernelspec": {
   "display_name": "Python 3",
   "language": "python",
   "name": "python3"
  },
  "language_info": {
   "codemirror_mode": {
    "name": "ipython",
    "version": 3
   },
   "file_extension": ".py",
   "mimetype": "text/x-python",
   "name": "python",
   "nbconvert_exporter": "python",
   "pygments_lexer": "ipython3",
   "version": "3.7.1"
  }
 },
 "nbformat": 4,
 "nbformat_minor": 2
}
